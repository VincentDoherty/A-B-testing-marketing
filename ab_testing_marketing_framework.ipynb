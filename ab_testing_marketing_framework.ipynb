{
 "cells": [
  {
   "cell_type": "markdown",
   "id": "4476ee1d-0c4b-4747-a6b8-bf16e3b81d86",
   "metadata": {},
   "source": [
    "# A/B Testing Framework: Marketing Campaign Analysis\n",
    "\n",
    "This notebook demonstrates how A/B testing can be used to evaluate the impact of different marketing strategies on user conversion rates. We'll use a real-world dataset from Kaggle: [Marketing A/B Testing](https://www.kaggle.com/datasets/faviovaz/marketing-ab-testing).\n",
    "\n",
    "---\n",
    "\n",
    "## Business Objective\n",
    "\n",
    "Imagine you're a data analyst at a brand considering two marketing approaches:\n",
    "- **Control (Public Service Announcement / PSA)** — a non-commercial message\n",
    "- **Test (Advertisement / Ad)** — a direct commercial ad\n",
    "\n",
    "Your goal is to determine whether using ads leads to a significantly higher conversion rate compared to PSAs.\n",
    "\n",
    "We'll:\n",
    "- Load and explore the dataset\n",
    "- Compare conversion rates between groups\n",
    "- Use statistical testing to validate significance\n",
    "- Offer business-friendly insights and recommendations"
   ]
  },
  {
   "cell_type": "code",
   "execution_count": 1,
   "id": "585898a9-1327-4917-8c44-112f6a40416e",
   "metadata": {},
   "outputs": [
    {
     "name": "stdout",
     "output_type": "stream",
     "text": [
      "Defaulting to user installation because normal site-packages is not writeable\n",
      "Requirement already satisfied: pandas in c:\\users\\vpjd8\\appdata\\roaming\\python\\python312\\site-packages (2.3.1)\n",
      "Requirement already satisfied: numpy in c:\\users\\vpjd8\\appdata\\roaming\\python\\python312\\site-packages (2.3.1)\n",
      "Collecting matplotlib\n",
      "  Using cached matplotlib-3.10.3-cp312-cp312-win_amd64.whl.metadata (11 kB)\n",
      "Collecting seaborn\n",
      "  Using cached seaborn-0.13.2-py3-none-any.whl.metadata (5.4 kB)\n",
      "Requirement already satisfied: scipy in c:\\users\\vpjd8\\appdata\\roaming\\python\\python312\\site-packages (1.16.0)\n",
      "Requirement already satisfied: statsmodels in c:\\users\\vpjd8\\appdata\\roaming\\python\\python312\\site-packages (0.14.5)\n",
      "Requirement already satisfied: python-dateutil>=2.8.2 in c:\\users\\vpjd8\\appdata\\roaming\\python\\python312\\site-packages (from pandas) (2.9.0.post0)\n",
      "Requirement already satisfied: pytz>=2020.1 in c:\\users\\vpjd8\\appdata\\roaming\\python\\python312\\site-packages (from pandas) (2025.2)\n",
      "Requirement already satisfied: tzdata>=2022.7 in c:\\users\\vpjd8\\appdata\\roaming\\python\\python312\\site-packages (from pandas) (2025.2)\n",
      "Requirement already satisfied: contourpy>=1.0.1 in c:\\users\\vpjd8\\appdata\\roaming\\python\\python312\\site-packages (from matplotlib) (1.3.2)\n",
      "Requirement already satisfied: cycler>=0.10 in c:\\users\\vpjd8\\appdata\\roaming\\python\\python312\\site-packages (from matplotlib) (0.12.1)\n",
      "Requirement already satisfied: fonttools>=4.22.0 in c:\\users\\vpjd8\\appdata\\roaming\\python\\python312\\site-packages (from matplotlib) (4.58.5)\n",
      "Requirement already satisfied: kiwisolver>=1.3.1 in c:\\users\\vpjd8\\appdata\\roaming\\python\\python312\\site-packages (from matplotlib) (1.4.8)\n",
      "Requirement already satisfied: packaging>=20.0 in c:\\users\\vpjd8\\appdata\\roaming\\python\\python312\\site-packages (from matplotlib) (25.0)\n",
      "Requirement already satisfied: pillow>=8 in c:\\users\\vpjd8\\appdata\\roaming\\python\\python312\\site-packages (from matplotlib) (11.3.0)\n",
      "Requirement already satisfied: pyparsing>=2.3.1 in c:\\users\\vpjd8\\appdata\\roaming\\python\\python312\\site-packages (from matplotlib) (3.2.3)\n",
      "Requirement already satisfied: patsy>=0.5.6 in c:\\users\\vpjd8\\appdata\\roaming\\python\\python312\\site-packages (from statsmodels) (1.0.1)\n",
      "Requirement already satisfied: six>=1.5 in c:\\users\\vpjd8\\appdata\\roaming\\python\\python312\\site-packages (from python-dateutil>=2.8.2->pandas) (1.17.0)\n",
      "Using cached matplotlib-3.10.3-cp312-cp312-win_amd64.whl (8.1 MB)\n",
      "Using cached seaborn-0.13.2-py3-none-any.whl (294 kB)\n",
      "Installing collected packages: matplotlib, seaborn\n",
      "Successfully installed matplotlib-3.10.3 seaborn-0.13.2\n"
     ]
    },
    {
     "name": "stderr",
     "output_type": "stream",
     "text": [
      "\n",
      "[notice] A new release of pip is available: 24.2 -> 25.1.1\n",
      "[notice] To update, run: python.exe -m pip install --upgrade pip\n"
     ]
    }
   ],
   "source": [
    "!pip install pandas numpy matplotlib seaborn scipy statsmodels"
   ]
  },
  {
   "cell_type": "code",
   "execution_count": 5,
   "id": "e675e9c9-dd0f-4664-ab45-51d35a92419d",
   "metadata": {},
   "outputs": [],
   "source": [
    "# Data manipulation\n",
    "import pandas as pd\n",
    "import numpy as np\n",
    "\n",
    "# Visualization\n",
    "import matplotlib.pyplot as plt\n",
    "import seaborn as sns\n",
    "\n",
    "# Statistical testing\n",
    "from scipy import stats\n",
    "import statsmodels.api as sm\n",
    "import statsmodels.formula.api as smf\n",
    "\n",
    "# Display settings\n",
    "sns.set(style='whitegrid')\n",
    "plt.rcParams['figure.figsize'] = (8, 5)"
   ]
  },
  {
   "cell_type": "code",
   "execution_count": 7,
   "id": "6a8be685-faf4-4137-9c12-0bd2ee31792e",
   "metadata": {},
   "outputs": [
    {
     "data": {
      "text/html": [
       "<div>\n",
       "<style scoped>\n",
       "    .dataframe tbody tr th:only-of-type {\n",
       "        vertical-align: middle;\n",
       "    }\n",
       "\n",
       "    .dataframe tbody tr th {\n",
       "        vertical-align: top;\n",
       "    }\n",
       "\n",
       "    .dataframe thead th {\n",
       "        text-align: right;\n",
       "    }\n",
       "</style>\n",
       "<table border=\"1\" class=\"dataframe\">\n",
       "  <thead>\n",
       "    <tr style=\"text-align: right;\">\n",
       "      <th></th>\n",
       "      <th>Unnamed: 0</th>\n",
       "      <th>user id</th>\n",
       "      <th>test group</th>\n",
       "      <th>converted</th>\n",
       "      <th>total ads</th>\n",
       "      <th>most ads day</th>\n",
       "      <th>most ads hour</th>\n",
       "    </tr>\n",
       "  </thead>\n",
       "  <tbody>\n",
       "    <tr>\n",
       "      <th>0</th>\n",
       "      <td>0</td>\n",
       "      <td>1069124</td>\n",
       "      <td>ad</td>\n",
       "      <td>False</td>\n",
       "      <td>130</td>\n",
       "      <td>Monday</td>\n",
       "      <td>20</td>\n",
       "    </tr>\n",
       "    <tr>\n",
       "      <th>1</th>\n",
       "      <td>1</td>\n",
       "      <td>1119715</td>\n",
       "      <td>ad</td>\n",
       "      <td>False</td>\n",
       "      <td>93</td>\n",
       "      <td>Tuesday</td>\n",
       "      <td>22</td>\n",
       "    </tr>\n",
       "    <tr>\n",
       "      <th>2</th>\n",
       "      <td>2</td>\n",
       "      <td>1144181</td>\n",
       "      <td>ad</td>\n",
       "      <td>False</td>\n",
       "      <td>21</td>\n",
       "      <td>Tuesday</td>\n",
       "      <td>18</td>\n",
       "    </tr>\n",
       "    <tr>\n",
       "      <th>3</th>\n",
       "      <td>3</td>\n",
       "      <td>1435133</td>\n",
       "      <td>ad</td>\n",
       "      <td>False</td>\n",
       "      <td>355</td>\n",
       "      <td>Tuesday</td>\n",
       "      <td>10</td>\n",
       "    </tr>\n",
       "    <tr>\n",
       "      <th>4</th>\n",
       "      <td>4</td>\n",
       "      <td>1015700</td>\n",
       "      <td>ad</td>\n",
       "      <td>False</td>\n",
       "      <td>276</td>\n",
       "      <td>Friday</td>\n",
       "      <td>14</td>\n",
       "    </tr>\n",
       "  </tbody>\n",
       "</table>\n",
       "</div>"
      ],
      "text/plain": [
       "   Unnamed: 0  user id test group  converted  total ads most ads day  \\\n",
       "0           0  1069124         ad      False        130       Monday   \n",
       "1           1  1119715         ad      False         93      Tuesday   \n",
       "2           2  1144181         ad      False         21      Tuesday   \n",
       "3           3  1435133         ad      False        355      Tuesday   \n",
       "4           4  1015700         ad      False        276       Friday   \n",
       "\n",
       "   most ads hour  \n",
       "0             20  \n",
       "1             22  \n",
       "2             18  \n",
       "3             10  \n",
       "4             14  "
      ]
     },
     "execution_count": 7,
     "metadata": {},
     "output_type": "execute_result"
    }
   ],
   "source": [
    "# Load dataset\n",
    "df = pd.read_csv('JupyterLab/ab_testing/marketing_AB.csv')\n",
    "\n",
    "# Preview\n",
    "df.head()"
   ]
  },
  {
   "cell_type": "code",
   "execution_count": 8,
   "id": "79fc7806-5950-4a7e-beb7-7a80d28f21dd",
   "metadata": {},
   "outputs": [
    {
     "name": "stdout",
     "output_type": "stream",
     "text": [
      "<class 'pandas.core.frame.DataFrame'>\n",
      "RangeIndex: 588101 entries, 0 to 588100\n",
      "Data columns (total 7 columns):\n",
      " #   Column         Non-Null Count   Dtype \n",
      "---  ------         --------------   ----- \n",
      " 0   Unnamed: 0     588101 non-null  int64 \n",
      " 1   user id        588101 non-null  int64 \n",
      " 2   test group     588101 non-null  object\n",
      " 3   converted      588101 non-null  bool  \n",
      " 4   total ads      588101 non-null  int64 \n",
      " 5   most ads day   588101 non-null  object\n",
      " 6   most ads hour  588101 non-null  int64 \n",
      "dtypes: bool(1), int64(4), object(2)\n",
      "memory usage: 27.5+ MB\n"
     ]
    },
    {
     "data": {
      "text/plain": [
       "Unnamed: 0       0\n",
       "user id          0\n",
       "test group       0\n",
       "converted        0\n",
       "total ads        0\n",
       "most ads day     0\n",
       "most ads hour    0\n",
       "dtype: int64"
      ]
     },
     "execution_count": 8,
     "metadata": {},
     "output_type": "execute_result"
    }
   ],
   "source": [
    "# Overview of dataset\n",
    "df.info()\n",
    "\n",
    "# Check for nulls\n",
    "df.isnull().sum()"
   ]
  },
  {
   "cell_type": "markdown",
   "id": "5d452af9-e893-4838-b8e3-8a0fef1407fb",
   "metadata": {},
   "source": [
    "### Group Balance\n",
    "\n",
    "We check whether users were randomly and evenly assigned to control (PSA) and test (Ad) groups."
   ]
  },
  {
   "cell_type": "code",
   "execution_count": 9,
   "id": "2cae6282-c48d-4ca4-acc2-fd23f03ef471",
   "metadata": {},
   "outputs": [
    {
     "data": {
      "image/png": "[encoded data removed]",
      "text/plain": [
       "<Figure size 800x500 with 1 Axes>"
      ]
     },
     "metadata": {},
     "output_type": "display_data"
    }
   ],
   "source": [
    "# Distribution of users in each group\n",
    "df['test group'].value_counts(normalize=True).plot(kind='bar', color=['steelblue', 'salmon'])\n",
    "plt.title('Distribution of Users by Test Group')\n",
    "plt.ylabel('Proportion')\n",
    "plt.xticks(rotation=0)\n",
    "plt.show()"
   ]
  },
  {
   "cell_type": "code",
   "execution_count": null,
   "id": "413d7854-6ff2-4bb1-8e08-f738bd4bffe3",
   "metadata": {},
   "outputs": [],
   "source": [
    "### Conversion Comparison\n",
    "\n",
    "We visualize the conversion rates between the control and test groups."
   ]
  },
  {
   "cell_type": "code",
   "execution_count": 10,
   "id": "1feeda82-a98e-42b2-be5b-bfbecaa69d0c",
   "metadata": {},
   "outputs": [
    {
     "name": "stderr",
     "output_type": "stream",
     "text": [
      "C:\\Users\\vpjd8\\AppData\\Local\\Temp\\ipykernel_22156\\3580328206.py:4: FutureWarning: \n",
      "\n",
      "Passing `palette` without assigning `hue` is deprecated and will be removed in v0.14.0. Assign the `x` variable to `hue` and set `legend=False` for the same effect.\n",
      "\n",
      "  sns.barplot(data=conversion_rates, x='test group', y='converted', palette='Set2')\n"
     ]
    },
    {
     "data": {
      "image/png": "[encoded data removed]",
      "text/plain": [
       "<Figure size 800x500 with 1 Axes>"
      ]
     },
     "metadata": {},
     "output_type": "display_data"
    }
   ],
   "source": [
    "# Conversion rate by test group\n",
    "conversion_rates = df.groupby('test group')['converted'].mean().reset_index()\n",
    "\n",
    "sns.barplot(data=conversion_rates, x='test group', y='converted', palette='Set2')\n",
    "plt.title('Conversion Rate by Test Group')\n",
    "plt.ylabel('Conversion Rate')\n",
    "plt.ylim(0, 0.05)  # Adjust based on observed rates\n",
    "plt.show()"
   ]
  },
  {
   "cell_type": "code",
   "execution_count": 11,
   "id": "a34328ee-b635-418b-a9ac-764a4ae54bf6",
   "metadata": {},
   "outputs": [
    {
     "data": {
      "text/html": [
       "<div>\n",
       "<style scoped>\n",
       "    .dataframe tbody tr th:only-of-type {\n",
       "        vertical-align: middle;\n",
       "    }\n",
       "\n",
       "    .dataframe tbody tr th {\n",
       "        vertical-align: top;\n",
       "    }\n",
       "\n",
       "    .dataframe thead th {\n",
       "        text-align: right;\n",
       "    }\n",
       "</style>\n",
       "<table border=\"1\" class=\"dataframe\">\n",
       "  <thead>\n",
       "    <tr style=\"text-align: right;\">\n",
       "      <th></th>\n",
       "      <th>count</th>\n",
       "      <th>sum</th>\n",
       "      <th>mean</th>\n",
       "    </tr>\n",
       "    <tr>\n",
       "      <th>test group</th>\n",
       "      <th></th>\n",
       "      <th></th>\n",
       "      <th></th>\n",
       "    </tr>\n",
       "  </thead>\n",
       "  <tbody>\n",
       "    <tr>\n",
       "      <th>ad</th>\n",
       "      <td>564577</td>\n",
       "      <td>14423</td>\n",
       "      <td>0.025547</td>\n",
       "    </tr>\n",
       "    <tr>\n",
       "      <th>psa</th>\n",
       "      <td>23524</td>\n",
       "      <td>420</td>\n",
       "      <td>0.017854</td>\n",
       "    </tr>\n",
       "  </tbody>\n",
       "</table>\n",
       "</div>"
      ],
      "text/plain": [
       "             count    sum      mean\n",
       "test group                         \n",
       "ad          564577  14423  0.025547\n",
       "psa          23524    420  0.017854"
      ]
     },
     "execution_count": 11,
     "metadata": {},
     "output_type": "execute_result"
    }
   ],
   "source": [
    "# Summary statistics\n",
    "df.groupby('test group')['converted'].agg(['count', 'sum', 'mean'])"
   ]
  },
  {
   "cell_type": "markdown",
   "id": "71d2b4e4-2a2b-4309-9bff-33bb63be216c",
   "metadata": {},
   "source": [
    "### Hypothesis\n",
    "\n",
    "We conduct a two-sided z-test to check if the conversion rates between the two groups are significantly different.\n",
    "\n",
    "- **Null Hypothesis (H₀)**: Conversion rate of Ad group = Conversion rate of PSA group\n",
    "- **Alternative Hypothesis (H₁)**: Conversion rate of Ad group ≠ Conversion rate of PSA group\n",
    "\n",
    "We use a significance level of **α = 0.05**."
   ]
  },
  {
   "cell_type": "code",
   "execution_count": 12,
   "id": "b70363a4-317d-4ec5-b51f-f533be50d6a8",
   "metadata": {},
   "outputs": [
    {
     "name": "stdout",
     "output_type": "stream",
     "text": [
      "Z-statistic: 7.370\n",
      "P-value: 0.00000\n"
     ]
    }
   ],
   "source": [
    "from statsmodels.stats.proportion import proportions_ztest\n",
    "\n",
    "# Successes and observations for each group\n",
    "successes = np.array([14423, 420])\n",
    "n_obs = np.array([564577, 23524])\n",
    "\n",
    "# Z-test\n",
    "z_stat, p_value = proportions_ztest(count=successes, nobs=n_obs, alternative='two-sided')\n",
    "\n",
    "print(f\"Z-statistic: {z_stat:.3f}\")\n",
    "print(f\"P-value: {p_value:.5f}\")"
   ]
  },
  {
   "cell_type": "markdown",
   "id": "3f4799bb-7a7c-430c-85fd-f92167db4783",
   "metadata": {},
   "source": [
    "### Test Conclusion\n",
    "\n",
    "- **Z-statistic** tells us how many standard deviations away the observed difference is from the null.\n",
    "- **P-value** < 0.05 → we **reject the null hypothesis**.\n",
    "\n",
    "💡 This means the conversion rate **is significantly higher** for the Ad group — the difference is *unlikely to be due to random chance*."
   ]
  },
  {
   "cell_type": "markdown",
   "id": "fdaf4e1a-135a-4075-92c8-8195783e12a3",
   "metadata": {},
   "source": [
    "## Business Recommendation\n",
    "\n",
    "Based on the analysis:\n",
    "\n",
    "- The **Ad group** has a conversion rate of **2.55%**, significantly higher than the **1.79%** of the PSA group.\n",
    "- The difference is **statistically significant** (Z = 7.37, p < 0.001).\n",
    "- This suggests that **using advertisements instead of PSAs leads to higher user conversion**.\n",
    "\n",
    "### Recommendation:\n",
    "The business should **prioritize ads** over PSAs for customer acquisition — especially when aiming to boost short-term conversions.\n",
    "\n",
    "Further analysis could include:\n",
    "- Segmenting by day/hour of most ads\n",
    "- Multi-variate testing with creatives/copy\n",
    "- ROAS and cost-effectiveness analysis if spend data is available\n"
   ]
  }
 ],
 "metadata": {
  "kernelspec": {
   "display_name": "Python 3 (ipykernel)",
   "language": "python",
   "name": "python3"
  },
  "language_info": {
   "codemirror_mode": {
    "name": "ipython",
    "version": 3
   },
   "file_extension": ".py",
   "mimetype": "text/x-python",
   "name": "python",
   "nbconvert_exporter": "python",
   "pygments_lexer": "ipython3",
   "version": "3.12.6"
  }
 },
 "nbformat": 4,
 "nbformat_minor": 5
}
